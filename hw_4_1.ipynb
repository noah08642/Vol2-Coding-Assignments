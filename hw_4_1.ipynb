{
 "cells": [
  {
   "cell_type": "markdown",
   "metadata": {},
   "source": [
    "# Homework 4.1 - Coding\n",
    "\n",
    "This is the coding portion of the homework assignment for Section 4.1"
   ]
  },
  {
   "cell_type": "code",
   "execution_count": 1,
   "metadata": {
    "tags": [
     "imports"
    ]
   },
   "outputs": [],
   "source": [
    "import time\n",
    "import math\n",
    "from matplotlib import pyplot as plt"
   ]
  },
  {
   "cell_type": "markdown",
   "metadata": {},
   "source": [
    "## Problem 4.1 \n",
    "\n",
    "This problem is about different ways of computing the $n$-th Fibonacci number $F(n)$ for $n \\in \\mathbb{N}$.\n",
    "\n",
    "For the purposes of this assignment, we assume $F(0) = F(1) = 1$, and for $n \\geq 2$, $F(n) = F(n-2) + F(n-1)$."
   ]
  },
  {
   "cell_type": "markdown",
   "metadata": {},
   "source": [
    "### Naive Approach\n",
    "\n",
    "Code up the naive top-down approach to this problem in the function `fib_naive()`. \n",
    "Your code should accept a natural number `n`, and should return the $n$th Fibonacci number $F(n)$."
   ]
  },
  {
   "cell_type": "code",
   "execution_count": 2,
   "metadata": {
    "tags": [
     "Problem 4.1(a)"
    ]
   },
   "outputs": [],
   "source": [
    "def fib_naive(n:int) -> int:\n",
    "    \"\"\"Returns the nth Fibonacci number using naive recursion.\"\"\"\n",
    "    if n == 1 or n == 0:\n",
    "        return 1\n",
    "\n",
    "    return fib_naive(n - 1) + fib_naive(n - 2)"
   ]
  },
  {
   "cell_type": "markdown",
   "metadata": {},
   "source": [
    "Here are some simple test cases. Add to them as you see fit."
   ]
  },
  {
   "cell_type": "code",
   "execution_count": 3,
   "metadata": {},
   "outputs": [
    {
     "name": "stdout",
     "output_type": "stream",
     "text": [
      "Passed Test Case 1\n",
      "Passed Test Case 2\n",
      "Passed Test Case 3\n",
      "Passed Test Case 4\n"
     ]
    }
   ],
   "source": [
    "assert fib_naive(0) == 1, \"Failed Test Case 1 on input n=0\"\n",
    "print(\"Passed Test Case 1\")\n",
    "\n",
    "assert fib_naive(1) == 1, \"Failed Test Case 2 on input n=1\"\n",
    "print(\"Passed Test Case 2\")\n",
    "\n",
    "assert fib_naive(4) == 5, \"Failed Test Case 3 on input n=4\"\n",
    "print(\"Passed Test Case 3\")\n",
    "\n",
    "assert fib_naive(18) == 4181, \"Failed Test Case 4 on input n=18\"\n",
    "print(\"Passed Test Case 4\")\n"
   ]
  },
  {
   "cell_type": "markdown",
   "metadata": {},
   "source": [
    "### Memoized Approach\n",
    "\n",
    "Code up the memoized top-down approach to this problem in the function `fib_memoized()`.\n",
    "Your code should accept a natural number `n`, and should return the $n$th Fibonacci number $F(n)$.\n",
    "\n",
    "**Important**: Your memoizing data structure should be INSIDE the `fib_memoized()` function for the autograder to grade your work correctly. To facilitate this, create an inner/helper function `fib_memoized_helper()` which actually performs the recursion _inside_ of `fib_memoized`."
   ]
  },
  {
   "cell_type": "code",
   "execution_count": 4,
   "metadata": {
    "tags": [
     "Problem 4.1(b)"
    ]
   },
   "outputs": [],
   "source": [
    "def fib_memoized(n:int) -> int:\n",
    "    \"\"\"Returns the nth Fibonacci number using memoized top-down recursion\"\"\"\n",
    "    lookup = {0:1, 1:1}         # Data structure for memoization\n",
    "\n",
    "    def fib_memoized_helper(n:int) -> int:\n",
    "        if n in lookup:\n",
    "            return lookup[n]\n",
    "        \n",
    "        sol_at_n = fib_memoized_helper(n - 1) + fib_memoized_helper(n - 2)\n",
    "\n",
    "        lookup[n] = sol_at_n\n",
    "\n",
    "        return sol_at_n\n",
    "\n",
    "    \n",
    "\n",
    "    return fib_memoized_helper(n)"
   ]
  },
  {
   "cell_type": "markdown",
   "metadata": {},
   "source": [
    "Again, here are some simple test cases. Add to them as you see fit."
   ]
  },
  {
   "cell_type": "code",
   "execution_count": 5,
   "metadata": {},
   "outputs": [
    {
     "name": "stdout",
     "output_type": "stream",
     "text": [
      "Passed Test Case 1\n",
      "Passed Test Case 2\n",
      "Passed Test Case 3\n",
      "Passed Test Case 4\n"
     ]
    }
   ],
   "source": [
    "assert fib_memoized(0) == 1, \"Failed Test Case 1 on input n=0\"\n",
    "print(\"Passed Test Case 1\")\n",
    "\n",
    "assert fib_memoized(1) == 1, \"Failed Test Case 2 on input n=1\"\n",
    "print(\"Passed Test Case 2\")\n",
    "\n",
    "assert fib_memoized(4) == 5, \"Failed Test Case 3 on input n=4\"\n",
    "print(\"Passed Test Case 3\")\n",
    "\n",
    "assert fib_naive(18) == 4181, \"Failed Test Case 4 on input n=18\"\n",
    "print(\"Passed Test Case 4\")"
   ]
  },
  {
   "cell_type": "markdown",
   "metadata": {},
   "source": [
    "### Bottom-Up Approach\n",
    "\n",
    "Code up the bottom-approach to this problem in the function `fib_bottom_up()`.\n",
    "\n",
    "Your code should accept a natural number `n`, and should return the $n$th Fibonacci number $F(n)$."
   ]
  },
  {
   "cell_type": "code",
   "execution_count": 6,
   "metadata": {
    "tags": [
     "Problem 4.1(c)"
    ]
   },
   "outputs": [],
   "source": [
    "def fib_bottom_up(n:int) -> int:\n",
    "    \"\"\"Returns the nth Fibonacci number using a bottom-up approach.\"\"\"\n",
    "    lookup = {0:1, 1:1}\n",
    "\n",
    "    for i in range(2, n + 1):\n",
    "        lookup[i] = lookup[i-1] + lookup[i-2]\n",
    "        lookup.pop(i - 2)\n",
    "    \n",
    "    return lookup[n]\n",
    "    "
   ]
  },
  {
   "cell_type": "markdown",
   "metadata": {},
   "source": [
    "Again, test cases for sanity checking."
   ]
  },
  {
   "cell_type": "code",
   "execution_count": 7,
   "metadata": {},
   "outputs": [
    {
     "name": "stdout",
     "output_type": "stream",
     "text": [
      "Passed Test Case 1\n",
      "Passed Test Case 2\n",
      "Passed Test Case 3\n",
      "Passed Test Case 4\n"
     ]
    }
   ],
   "source": [
    "assert fib_bottom_up(0) == 1, \"Failed Test Case 1 on input n=0\"\n",
    "print(\"Passed Test Case 1\")\n",
    "\n",
    "assert fib_bottom_up(1) == 1, \"Failed Test Case 2 on input n=1\"\n",
    "print(\"Passed Test Case 2\")\n",
    "\n",
    "assert fib_bottom_up(4) == 5, \"Failed Test Case 3 on input n=4\"\n",
    "print(\"Passed Test Case 3\")\n",
    "\n",
    "assert fib_naive(18) == 4181, \"Failed Test Case 4 on input n=18\"\n",
    "print(\"Passed Test Case 4\")"
   ]
  },
  {
   "cell_type": "markdown",
   "metadata": {},
   "source": [
    "### Timing and Comparison\n",
    "\n",
    "Time all three methods and compare their performance for the values of $n$ given in the list `n_vals`. Store the timing results in the lists `naive_times`, `memoized_times`, and `bottom_up_times`.\n",
    "\n",
    "NOTE: This may take a minute or two to run. Be patient."
   ]
  },
  {
   "cell_type": "code",
   "execution_count": 8,
   "metadata": {},
   "outputs": [],
   "source": [
    "n_vals = range(1,36)\n",
    "naive_times = []\n",
    "memoized_times = []\n",
    "bottom_up_times = []\n",
    "\n",
    "for n in n_vals:\n",
    "    s = time.perf_counter()\n",
    "    fib_naive(n)\n",
    "    e = time.perf_counter()\n",
    "    naive_times.append(e - s)\n",
    "\n",
    "    s = time.perf_counter()\n",
    "    fib_memoized(n)\n",
    "    e = time.perf_counter()\n",
    "    memoized_times.append(e - s)\n",
    "\n",
    "    s = time.perf_counter()\n",
    "    fib_bottom_up(n)\n",
    "    e = time.perf_counter()\n",
    "    bottom_up_times.append(e - s)\n",
    "\n"
   ]
  },
  {
   "cell_type": "markdown",
   "metadata": {},
   "source": [
    "Finally, create a `matplotlib` plot visualizing the difference in times it took for each of these three algorithms.\n",
    "Use the times in the lists from the previous cell as y-values, and `n_vals` as x-values.\n",
    "Plot them all on the same axis, making sure to label each line, and include a legend, axis labels, and a title.\n",
    "\n",
    "Then, display the plot."
   ]
  },
  {
   "cell_type": "code",
   "execution_count": 9,
   "metadata": {},
   "outputs": [
    {
     "data": {
      "image/png": "[encoded data removed]",
      "text/plain": [
       "<Figure size 640x480 with 1 Axes>"
      ]
     },
     "metadata": {},
     "output_type": "display_data"
    }
   ],
   "source": [
    "plt.loglog(naive_times, label=\"Naive\")\n",
    "plt.loglog(memoized_times, label=\"Memoized\") \n",
    "plt.loglog(bottom_up_times, label=\"Bottom-Up\")\n",
    "plt.title(\"Comparing Solving Methods of Fibonacci Computations\")\n",
    "plt.legend()\n",
    "plt.show()"
   ]
  },
  {
   "cell_type": "markdown",
   "metadata": {},
   "source": [
    "Write a sentence or two describing what you notice about these results. (It may help if you additionally try plotting everything but the naive recursion, as well as the plot you've already made of all three methods)"
   ]
  },
  {
   "cell_type": "markdown",
   "metadata": {},
   "source": [
    "**Response:** _Naive is clearly the worst, with Bottom-Up making slight improvements over Memoized._"
   ]
  },
  {
   "cell_type": "markdown",
   "metadata": {},
   "source": [
    "---\n",
    "\n",
    "## Problem 4.2 \n",
    "\n",
    "This problem is about computing the optimal number $n(v)$ of coins in the change-making problem for $v$ cents ($v \\in \\mathbb{N}$) and an arbitrary coinage system $C$ (a set of coin values, in cents)."
   ]
  },
  {
   "cell_type": "markdown",
   "metadata": {},
   "source": [
    "### Naive Recursion\n",
    "\n",
    "Code up the naive top-down recursion for the change making problem inside the function `naive_coins()`.\n",
    "\n",
    "Your code should accept as arguments a coinage system `C` (as a list of integers) and a value `v` (an integer) we'd like to make change out to.\n",
    "\n",
    "It should return (1) the optimal number of coins to make change (an integer), and (2) a list of the coin values used (a list of integers)."
   ]
  },
  {
   "cell_type": "code",
   "execution_count": 20,
   "metadata": {
    "tags": [
     "Problem 4.2(a)"
    ]
   },
   "outputs": [],
   "source": [
    "def naive_coins(C: list[int], v: int) -> tuple[int, list[int]]:\n",
    "    \"\"\"Solves the change-making problem using naive top-down recursion.\n",
    "    \n",
    "    Args:\n",
    "        C (list[int]) - A list of coin values in a given coinage system\n",
    "        v (int) - The number of cents we'd like to make change to\n",
    "\n",
    "    Returns:\n",
    "        int: The least number of coins required to make change out to v cents \n",
    "        list[int]: The list of coin denonimations used to make this change\n",
    "    \"\"\"\n",
    "\n",
    "    lookup = {0:(0, [])}\n",
    "\n",
    "    def make_change(w):\n",
    "        if w in lookup:\n",
    "            return lookup[w]\n",
    "        \n",
    "        best = None\n",
    "        for coin in C:\n",
    "            if coin <= w:\n",
    "                count, coins_list = make_change(w - coin)\n",
    "                if best is None or count+1 < best[0]:\n",
    "                    best = (count + 1, coins_list + [coin])\n",
    "        \n",
    "\n",
    "        lookup[w] = best\n",
    "        return best\n",
    "\n",
    "    return make_change(v)\n"
   ]
  },
  {
   "cell_type": "markdown",
   "metadata": {},
   "source": [
    "Here are some simple sanity-check test cases. Add to them as you see fit while you build/test your code."
   ]
  },
  {
   "cell_type": "code",
   "execution_count": 21,
   "metadata": {},
   "outputs": [
    {
     "name": "stdout",
     "output_type": "stream",
     "text": [
      "Test 1 Passed\n",
      "Test 2 Passed\n"
     ]
    }
   ],
   "source": [
    "C = [1, 5, 10, 25, 50, 100]      # US Coinage system\n",
    "\n",
    "# 1st test case\n",
    "val, coins_used = naive_coins(C, 10)\n",
    "assert val == 1\n",
    "assert coins_used == [10]\n",
    "print(\"Test 1 Passed\")\n",
    "\n",
    "# 2nd test case\n",
    "val, coins_used = naive_coins(C, 37)\n",
    "assert val == 4\n",
    "assert sorted(coins_used) == [1, 1, 10, 25]\n",
    "print(\"Test 2 Passed\")"
   ]
  },
  {
   "cell_type": "markdown",
   "metadata": {},
   "source": [
    "### Bottom-Up Approach\n",
    "\n",
    "Code up the bottom-up approach for the change making problem inside the function `bottom_up_coins()`.\n",
    "\n",
    "Your code should accept as arguments a coinage system `C` (as a list of integers) and a value `v` (an integer) we'd like to make change out to.\n",
    "\n",
    "It should return (1) the optimal number of coins to make change (an integer), and (2) a list of the coin values used (a list of integers)."
   ]
  },
  {
   "cell_type": "code",
   "execution_count": 33,
   "metadata": {
    "tags": [
     "Problem 4.2(b)"
    ]
   },
   "outputs": [],
   "source": [
    "def bottom_up_coins(C: list[int], v: int) -> tuple[int, list[int]]:\n",
    "    \"\"\"Solves the change-making problem using bottom_up recursion.\n",
    "    \n",
    "    Args:\n",
    "        C (list[int]) - A list of coin values in a given coinage system\n",
    "        v (int) - The number of cents we'd like to make change to\n",
    "\n",
    "    Returns:\n",
    "        int: The least number of coins required to make change out to v cents \n",
    "        list[int]: The list of coin denonimations used to make this change\n",
    "    \"\"\"\n",
    "    lookup = [(float(\"inf\"), []) for _ in range(v + 1)]\n",
    "    lookup[0] = (0, [])\n",
    "\n",
    "    for w in range(1, v + 1):\n",
    "        for coin in C:\n",
    "            if coin <= w:\n",
    "                prev_count, prev_coinage = lookup[w - coin]\n",
    "                candidate = (prev_count + 1, prev_coinage + [coin])\n",
    "                if candidate[0] < lookup[w][0]:\n",
    "                    lookup[w] = candidate\n",
    "\n",
    "    return lookup[v]\n",
    "\n",
    "\n"
   ]
  },
  {
   "cell_type": "markdown",
   "metadata": {},
   "source": [
    "Again, here are some simple sanity-check test cases. Add to them as you see fit."
   ]
  },
  {
   "cell_type": "code",
   "execution_count": 27,
   "metadata": {},
   "outputs": [
    {
     "name": "stdout",
     "output_type": "stream",
     "text": [
      "Test 1 Passed\n",
      "Test 2 Passed\n"
     ]
    }
   ],
   "source": [
    "C = [1, 5, 10, 25, 50, 100]      # US Coinage system\n",
    "\n",
    "# 1st test case\n",
    "val, coins_used = bottom_up_coins(C, 10)\n",
    "assert val == 1\n",
    "assert coins_used == [10]\n",
    "print(\"Test 1 Passed\")\n",
    "\n",
    "# 2nd test case\n",
    "val, coins_used = bottom_up_coins(C, 37)\n",
    "assert val == 4\n",
    "assert sorted(coins_used) == [1, 1, 10, 25]\n",
    "print(\"Test 2 Passed\")"
   ]
  },
  {
   "cell_type": "markdown",
   "metadata": {},
   "source": [
    "### Timing and Comparison\n",
    "\n",
    "Time both methods and compare their performance on the US Coinage system for the values of $v$ given in the list `v_vals`. Store the timing results in the lists `naive_coin_times` and `bottom_up_coin_times`."
   ]
  },
  {
   "cell_type": "code",
   "execution_count": 34,
   "metadata": {},
   "outputs": [],
   "source": [
    "v_vals = range(50)\n",
    "naive_coin_times = []\n",
    "bottom_up_coin_times = []\n",
    "\n",
    "for v in v_vals:\n",
    "    s = time.perf_counter()\n",
    "    naive_coins(C, v)\n",
    "    e = time.perf_counter()\n",
    "    naive_coin_times.append(e - s)\n",
    "\n",
    "    s = time.perf_counter()\n",
    "    bottom_up_coins(C, v)\n",
    "    e = time.perf_counter()\n",
    "    bottom_up_coin_times.append(e - s)"
   ]
  },
  {
   "cell_type": "markdown",
   "metadata": {},
   "source": [
    "Finally, create a `matplotlib` plot visualizing the difference in times it took for each of these two coin algorithms.\n",
    "Use the times in the lists from the previous cell as y-values, and `v_vals` as x-values.\n",
    "Plot them all on the same axis, making sure to label each line, and include a legend.\n",
    "\n",
    "Then, display the plot."
   ]
  },
  {
   "cell_type": "code",
   "execution_count": 35,
   "metadata": {},
   "outputs": [
    {
     "data": {
      "image/png": "[encoded data removed]",
      "text/plain": [
       "<Figure size 640x480 with 1 Axes>"
      ]
     },
     "metadata": {},
     "output_type": "display_data"
    }
   ],
   "source": [
    "plt.loglog(naive_coin_times, label=\"Naive\")\n",
    "plt.loglog(bottom_up_coin_times, label=\"Bottom-Up\")\n",
    "plt.legend()\n",
    "plt.xlabel(\"n\")\n",
    "plt.ylabel(\"Time\")\n",
    "plt.title(\"Comparing different Coin Problem Solution Methods\")\n",
    "plt.show()"
   ]
  },
  {
   "cell_type": "markdown",
   "metadata": {},
   "source": [
    "Write a sentence or two describing what you notice about these results."
   ]
  },
  {
   "cell_type": "markdown",
   "metadata": {},
   "source": [
    "**Response:** _I see that these methods are quite similar in temporal complexity, with each spiking up at different points in no discernable fashion_"
   ]
  },
  {
   "cell_type": "markdown",
   "metadata": {},
   "source": [
    "## Problem 4.3 \n",
    "\n",
    "Code up a greedy version of the change-making problem inside the function `greedy_coins()`.\n",
    "\n",
    "Your code should accept as arguments a coinage system `C` (as a list of integers) and a value `v` (an integer) we'd like to make change out to.\n",
    "\n",
    "It should return (1) the optimal number of coins to make change (an integer), and (2) a list of the coin values used (a list of integers)."
   ]
  },
  {
   "cell_type": "code",
   "execution_count": 12,
   "metadata": {
    "tags": [
     "Problem 4.3"
    ]
   },
   "outputs": [],
   "source": [
    "def greedy_coins(C: list[int], v: int) -> tuple[int, list[int]]:\n",
    "    \"\"\"Solves the change-making problem using a greedy algorithm.\n",
    "    \n",
    "    Args:\n",
    "        C (list[int]) - A list of coin values in a given coinage system\n",
    "        v (int) - The number of cents we'd like to make change to\n",
    "\n",
    "    Returns:\n",
    "        int: The least number of coins required to make change out to v cents \n",
    "        list[int]: The list of coin denonimations used to make this change\n",
    "    \"\"\"\n",
    "    change = []\n",
    "    for coin in sorted(C, reverse=True):\n",
    "        while coin <= v:\n",
    "            v -= coin\n",
    "            change.append(coin)\n",
    "\n",
    "    return len(change), change"
   ]
  },
  {
   "cell_type": "markdown",
   "metadata": {},
   "source": [
    "Again, some more simple tets cases. You can always add more."
   ]
  },
  {
   "cell_type": "code",
   "execution_count": 13,
   "metadata": {},
   "outputs": [
    {
     "name": "stdout",
     "output_type": "stream",
     "text": [
      "Test 1 Passed\n",
      "Test 2 Passed\n"
     ]
    }
   ],
   "source": [
    "C = [1, 5, 10, 25, 50, 100]      # US Coinage system\n",
    "\n",
    "# 1st test case\n",
    "val, coins_used = greedy_coins(C, 10)\n",
    "assert val == 1\n",
    "assert coins_used == [10]\n",
    "print(\"Test 1 Passed\")\n",
    "\n",
    "# 2nd test case\n",
    "val, coins_used = greedy_coins(C, 37)\n",
    "assert val == 4\n",
    "assert sorted(coins_used) == [1, 1, 10, 25]\n",
    "print(\"Test 2 Passed\")"
   ]
  },
  {
   "cell_type": "markdown",
   "metadata": {},
   "source": [
    "Verify that the greedy solution is the same as the optimal solution for all values $v \\in \\{1, 2, \\ldots, 1999\\}$ by comparing the output of the greedy algorithm in `greedy_coins()` to the output of the optimal algorithm in `bottom_up_coins()`.\n",
    "\n",
    "This can be done by running the cell below. \n",
    "\n",
    "If any `AssertionError` is raised, the output is not consistent. If no errors are raised, you're all set!"
   ]
  },
  {
   "cell_type": "code",
   "execution_count": 36,
   "metadata": {},
   "outputs": [
    {
     "name": "stdout",
     "output_type": "stream",
     "text": [
      "All tests passed - greedy and optimal solutions are the same for v=1,2,...,1999\n"
     ]
    }
   ],
   "source": [
    "C = [1, 5, 10, 25, 50, 100]      # US Coinage system\n",
    "for v in range(1, 2000):\n",
    "    greedy_num, greedy_coins_used = greedy_coins(C, v)\n",
    "    optimal_num, optimal_coins_used = bottom_up_coins(C, v)\n",
    "    assert greedy_num == optimal_num, f\"Greedy and optimal number of coins used are different on v = {v}\"\n",
    "    assert sorted(greedy_coins_used) == sorted(optimal_coins_used), f\"Greedy and optimal coins used are different on v = {v}\"\n",
    "\n",
    "print(\"All tests passed - greedy and optimal solutions are the same for v=1,2,...,1999\")"
   ]
  },
  {
   "cell_type": "markdown",
   "metadata": {},
   "source": [
    "Time your code for the greedy solution on the values from earlier in `v_vals`, and store the results in the list `greedy_coin_times`."
   ]
  },
  {
   "cell_type": "code",
   "execution_count": 40,
   "metadata": {},
   "outputs": [],
   "source": [
    "greedy_coin_times = []\n",
    "for v in v_vals:\n",
    "    s = time.perf_counter()\n",
    "    greedy_coins(C, v)\n",
    "    e = time.perf_counter()\n",
    "    greedy_coin_times.append(e-s)\n"
   ]
  },
  {
   "cell_type": "markdown",
   "metadata": {},
   "source": [
    "Finally, to compare your results with the bottom-up method from Problem 4.2, plot the two algorithm times versus `v_vals` on the same axis, using a similar format to the previous two plots you've completed in this assignments. Display the plot."
   ]
  },
  {
   "cell_type": "code",
   "execution_count": 41,
   "metadata": {},
   "outputs": [
    {
     "data": {
      "image/png": "[encoded data removed]",
      "text/plain": [
       "<Figure size 640x480 with 1 Axes>"
      ]
     },
     "metadata": {},
     "output_type": "display_data"
    }
   ],
   "source": [
    "plt.loglog(greedy_coin_times, label=\"Greedy\")\n",
    "plt.loglog(bottom_up_coin_times, label=\"Bottom-Up\")\n",
    "plt.legend()\n",
    "plt.xlabel(\"n\")\n",
    "plt.ylabel(\"Time\")\n",
    "plt.title(\"Comparing different Coin Problem Solution Methods\")\n",
    "plt.show()"
   ]
  },
  {
   "cell_type": "markdown",
   "metadata": {},
   "source": [
    "Write a sentence or two describing what you notice about these results."
   ]
  },
  {
   "cell_type": "markdown",
   "metadata": {},
   "source": [
    "**Response:** _Greedy is significantly faster than Bottom-Up._"
   ]
  },
  {
   "cell_type": "markdown",
   "metadata": {},
   "source": [
    "---\n",
    "\n",
    "IMPORTANT: Please \"Restart and Run All\" and ensure there are no errors. Then, submit this .ipynb file to Gradescope."
   ]
  }
 ],
 "metadata": {
  "kernelspec": {
   "display_name": "caiman",
   "language": "python",
   "name": "python3"
  },
  "language_info": {
   "codemirror_mode": {
    "name": "ipython",
    "version": 3
   },
   "file_extension": ".py",
   "mimetype": "text/x-python",
   "name": "python",
   "nbconvert_exporter": "python",
   "pygments_lexer": "ipython3",
   "version": "3.11.10"
  }
 },
 "nbformat": 4,
 "nbformat_minor": 2
}
