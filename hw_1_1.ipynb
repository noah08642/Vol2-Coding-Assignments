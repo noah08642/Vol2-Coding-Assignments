{
 "cells": [
  {
   "cell_type": "markdown",
   "metadata": {},
   "source": [
    "# Homework 1.1 - Coding Portion\n",
    "\n",
    "This is the coding portion of the homework assignment for Section 1.1."
   ]
  },
  {
   "cell_type": "markdown",
   "metadata": {},
   "source": [
    "## Problem 1.6\n",
    "\n",
    "Consider the standard, elementary school algorithm for the subtraction of multi-digit integers."
   ]
  },
  {
   "cell_type": "markdown",
   "metadata": {},
   "source": [
    "---\n",
    "\n",
    "### Part (i)\n",
    "\n",
    "Code up the algorithm inside the function `subtract()`.\n",
    "\n",
    "Your code should accept two lists `a` and `b` of single-digit integers (representing numbers), and return a list of single-digit integers representing the result of `a-b`.\n",
    "Explain your algorithm carefully in the comments of your code.\n",
    "\n",
    "---"
   ]
  },
  {
   "cell_type": "code",
   "execution_count": 3,
   "metadata": {
    "tags": [
     "Problem 1.6(i)"
    ]
   },
   "outputs": [],
   "source": [
    "def subtract(a: list[int], b: list[int]) -> list[int]:\n",
    "    \"\"\"Returns a-b as a list of digits.\n",
    "\n",
    "    We may assume that a is bigger than or equal to b \n",
    "    (that is, that the result is a positive number).\n",
    "    \n",
    "    Args:\n",
    "        a (list[int]): A list of digits representing the first number\n",
    "        b (list[int]): A list of digits representing the second number\n",
    "    \n",
    "    Returns:\n",
    "        list[int]: A list of digits representing the result of a-b\n",
    "    \"\"\"\n",
    "    # zero pad in case of different lengths\n",
    "    if len(b) < len(a):\n",
    "        b = [0] * (len(a) - len(b)) + b\n",
    "    elif len(a) < len(b):\n",
    "        a = [0] * (len(b) - len(a)) + a\n",
    "\n",
    "    # subtract with borrowing\n",
    "    for i in range(len(a)-1, -1, -1):\n",
    "        if a[i] < b[i]: # if we need to borrow\n",
    "            a[i] += 10 # borrow from the next digit\n",
    "            a[i-1] -= 1\n",
    "        a[i] -= b[i]\n",
    "\n",
    "    # strip extra zeros\n",
    "    while len(a) > 1 and a[0] == 0:\n",
    "        a.pop(0)\n",
    "\n",
    "    return a"
   ]
  },
  {
   "cell_type": "markdown",
   "metadata": {},
   "source": [
    "The following cell contains some sample test cases of expected output.\n",
    "\n",
    "If you run it and it prints no output, you're all set!\n",
    "\n",
    "If you run it and it gets an `AssertionError`, your output does not match the expected output. Go back and fix your code accordingly.\n",
    "\n",
    "(NOTE: This is not an exhaustive list of test cases, and these are not the test cases we will necessarily use to grade your submission. However, this is meant to help get you on the right track. Feel free to add your own test cases to them - we have a separate autograder for the function itself.)"
   ]
  },
  {
   "cell_type": "code",
   "execution_count": 4,
   "metadata": {},
   "outputs": [],
   "source": [
    "assert subtract([6],[4]) == [2]\n",
    "assert subtract([5,4],[3,2]) == [2,2]\n",
    "assert subtract([7,6],[5]) == [7,1]\n",
    "assert subtract([3,6],[1,7]) == [1,9]"
   ]
  },
  {
   "cell_type": "code",
   "execution_count": 5,
   "metadata": {},
   "outputs": [],
   "source": [
    "# Here is a code cell where you can run additional scratch work.\n",
    "# You can add more of these as you work the problem (and delete any you don't need anymore).\n",
    "# IMPORTANT: the only thing that will be actually graded is the function itself.\n"
   ]
  },
  {
   "cell_type": "markdown",
   "metadata": {},
   "source": [
    "---\n",
    "\n",
    "### Part (ii)\n",
    "\n",
    "Determine the asymptotic (big-O) temporal and spatial complexity of this algorithm (e.g. $O(n)$, $O(n^2)$, etc.), and explain why your answer is correct.\n",
    "\n",
    "(Assume $n$ is the number of digits in the longest number).\n",
    "\n",
    "---"
   ]
  },
  {
   "cell_type": "markdown",
   "metadata": {},
   "source": [
    "**Spatial Compelxity (Big-O)**: _(n)_\n",
    "\n",
    "**Justification**: _(as n grows, the inner loop must be done 1 additional time)_"
   ]
  },
  {
   "cell_type": "markdown",
   "metadata": {},
   "source": [
    "**Temporal Compelxity (Big-O)**: _(n)_\n",
    "\n",
    "**Justification**: _(the only space that depends on the size of n is storing the two lists, which grow at a pace of O(n))_"
   ]
  }
 ],
 "metadata": {
  "kernelspec": {
   "display_name": "caiman",
   "language": "python",
   "name": "python3"
  },
  "language_info": {
   "codemirror_mode": {
    "name": "ipython",
    "version": 3
   },
   "file_extension": ".py",
   "mimetype": "text/x-python",
   "name": "python",
   "nbconvert_exporter": "python",
   "pygments_lexer": "ipython3",
   "version": "3.11.10"
  }
 },
 "nbformat": 4,
 "nbformat_minor": 2
}
