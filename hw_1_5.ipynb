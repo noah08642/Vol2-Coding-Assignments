{
 "cells": [
  {
   "cell_type": "markdown",
   "metadata": {},
   "source": [
    "## Homework 1.5 - Coding\n",
    "\n",
    "This is the coding portion of the homework assignment for Section 1.5."
   ]
  },
  {
   "cell_type": "markdown",
   "metadata": {},
   "source": []
  },
  {
   "cell_type": "code",
   "execution_count": 7,
   "metadata": {
    "tags": [
     "imports"
    ]
   },
   "outputs": [],
   "source": [
    "import numpy as np\n",
    "from matplotlib import pyplot as plt\n",
    "from time import time"
   ]
  },
  {
   "cell_type": "markdown",
   "metadata": {},
   "source": [
    "## Problem 1.26"
   ]
  },
  {
   "cell_type": "markdown",
   "metadata": {},
   "source": [
    "### Part (i)\n",
    "\n",
    "Create a function `create_arrays_prob_26()`, which accepts as an argument $k$, and returns as numpy arrays:\n",
    "\n",
    "1.  $A$: A random matrix of size $2^k \\times 2^k$\n",
    "2.  $B$: A random matrix of size $2^k \\times 2^k$\n",
    "3.  $\\mathbf{x}$: A random vector of size $2^k$."
   ]
  },
  {
   "cell_type": "code",
   "execution_count": 4,
   "metadata": {
    "tags": [
     "Problem 1.26(i)"
    ]
   },
   "outputs": [],
   "source": [
    "def create_arrays_prob_26(k: int) -> tuple[np.ndarray, np.ndarray, np.ndarray]:\n",
    "    \"\"\"Creates the arrays called for in Problem 1.26.\n",
    "    \n",
    "    Args:\n",
    "        k (int): The power of 2 used for dimensions of the arrays\n",
    "    \n",
    "    Returns:\n",
    "        A (np.ndarray): A random matrix of size $2^k \\times 2^k$\n",
    "        B (np.ndarray): A random matrix of size $2^k \\times 2^k$\n",
    "        x (np.ndarray): A random vector of size 2^k\n",
    "    \"\"\"\n",
    "    n = 2**k\n",
    "    A = np.random.random((n,n))\n",
    "    B = np.random.random((n,n))\n",
    "    x = np.random.random(n)\n",
    "\n",
    "    return A, B, x"
   ]
  },
  {
   "cell_type": "markdown",
   "metadata": {},
   "source": [
    "### Part (ii)\n",
    "\n",
    "For $k = 1, 2, \\ldots, 11$, time the computation of $(AB)\\mathbf{x}$ versus the computation of $A(B\\mathbf{x})$.\n",
    "\n",
    "Store the times in the lists `matrices_first_times` and `vector_first_times`, respectively."
   ]
  },
  {
   "cell_type": "code",
   "execution_count": 12,
   "metadata": {},
   "outputs": [],
   "source": [
    "matrices_first_times = []\n",
    "vector_first_times = []\n",
    "k_vals = np.arange(1,12)\n",
    "\n",
    "for k in k_vals:\n",
    "    A, B, x = create_arrays_prob_26(k)\n",
    "    start = time()\n",
    "    (A@B)@x\n",
    "    end = time()\n",
    "    matrices_first_times.append(end - start)    \n",
    "    start = time()\n",
    "    A@(B@x)\n",
    "    end = time()\n",
    "    vector_first_times.append(end - start)"
   ]
  },
  {
   "cell_type": "markdown",
   "metadata": {},
   "source": [
    "For each $k$, find the ratio of the time it takes to compute $(AB)\\mathbf{x}$ versus $A(B\\mathbf{x})$. Store the result in the list `ratios`."
   ]
  },
  {
   "cell_type": "code",
   "execution_count": 13,
   "metadata": {},
   "outputs": [],
   "source": [
    "ratios = []\n",
    "\n",
    "for m, v in zip(matrices_first_times, vector_first_times):\n",
    "    ratios.append(m/v)"
   ]
  },
  {
   "cell_type": "markdown",
   "metadata": {},
   "source": [
    "Once you have done the above work, run the next cell to see how the ratios compare over time:"
   ]
  },
  {
   "cell_type": "code",
   "execution_count": 14,
   "metadata": {},
   "outputs": [
    {
     "data": {
      "text/plain": [
       "[<matplotlib.lines.Line2D at 0x1109f4350>]"
      ]
     },
     "execution_count": 14,
     "metadata": {},
     "output_type": "execute_result"
    },
    {
     "data": {
      "image/png": "[encoded data removed]",
      "text/plain": [
       "<Figure size 640x480 with 1 Axes>"
      ]
     },
     "metadata": {},
     "output_type": "display_data"
    }
   ],
   "source": [
    "plt.plot(k_vals, ratios)"
   ]
  },
  {
   "cell_type": "markdown",
   "metadata": {},
   "source": [
    "When $k$ increases by one, does the ratio of the times of the two computations change? By how much? Explain this in terms of what we ahve discussed about the complexity of matrix-matrix and matrix-vector multiplication."
   ]
  },
  {
   "cell_type": "markdown",
   "metadata": {},
   "source": [
    "**Explanation**: _As k increases by one, the ratio increases by 0.5n.  Matrix-Matrix multiplication is ln(2m - 1) = 2n^3 - n^2 when n = m = l and Matrix-Vector multiplication is m(2n - 1) = 2n^2 - n when n = m.  Matrix first does a matrix-matrix and then matrix-vector multiplication, while vector first does a 2 matrix-vector multiplications, with complexity (2n^2 - n).  Then matrix-first multiplication has leading order complexity 2n^3 and vector-first multiplication has leading order temporal complexity 4n^2_"
   ]
  },
  {
   "cell_type": "markdown",
   "metadata": {},
   "source": [
    "---\n",
    "\n",
    "## Problem 1.27\n",
    "\n",
    "**IMPORTANT:** You should have verified algebraically (by hand) that\n",
    "$$(I_n + \\mathbf{u} \\mathbf{v}^\\top) \\mathbf{x} = \\mathbf{x} + \\mathbf{u}\\left(\\mathbf{v}^\\top \\mathbf{x} \\right) \\text{ for any } \\mathbf{u}, \\mathbf{v}, \\mathbf{x} \\in \\mathbb{R}^n$$\n",
    "and turned it into the written assignment for 1.5. If you have not done that, do it now before proceeding."
   ]
  },
  {
   "cell_type": "markdown",
   "metadata": {},
   "source": [
    "### Part (i)\n",
    "\n",
    "Write a function `create_arrays_prob_27()` which accepts as an argument $n$, and returns the following as numpy arrays:\n",
    "\n",
    "1. The $2^n \\times 2^n$ identity matrix $I$\n",
    "2. $\\mathbf{u}$ (a random vector of size $2^n$)\n",
    "3. $\\mathbf{v}$ (a random vector of size $2^n$)\n",
    "4. $\\mathbf{x}$ (a random vector of size $2^n$)"
   ]
  },
  {
   "cell_type": "code",
   "execution_count": 17,
   "metadata": {
    "tags": [
     "Problem 1.27(i)"
    ]
   },
   "outputs": [],
   "source": [
    "def create_arrays_prob_27(n: int) -> tuple[np.ndarray, np.ndarray, np.ndarray, np.ndarray]:\n",
    "    \"\"\"Creates the arrays called for in Problem 1.27.\n",
    "    \n",
    "    Args:\n",
    "        n (int): The power of 2 used for dimensions of the arrays\n",
    "    \n",
    "    Returns:\n",
    "        I (np.ndarray): The 2^n x 2^n identity matrix\n",
    "        u (np.ndarray): A random vector of size 2^n\n",
    "        v (np.ndarray): A random vector of size 2^n\n",
    "        x (np.ndarray): A random vector of size 2^n\n",
    "    \"\"\"\n",
    "    dim = 2**n\n",
    "    I = np.eye(dim)\n",
    "    u, v, x, = np.random.random(dim), np.random.random(dim), np.random.random(dim)\n",
    "    return I, u, v, x\n",
    "\n",
    "\n",
    "    "
   ]
  },
  {
   "cell_type": "markdown",
   "metadata": {},
   "source": [
    "Time the computation of $(I + \\mathbf{u}\\mathbf{v}^\\top)\\mathbf{x}$ versus $\\mathbf{x} + \\mathbf{u}(\\mathbf{v}^\\top \\mathbf{x})$.\n",
    "\n",
    "Store the results in the lists `compact_times` and `expanded_times`, respectively."
   ]
  },
  {
   "cell_type": "code",
   "execution_count": 24,
   "metadata": {},
   "outputs": [],
   "source": [
    "n_vals = np.arange(1,12)\n",
    "compact_times = []      # Times for (I + uv^T)x\n",
    "expanded_times = []     # Times for x + u(v^T x)\n",
    "\n",
    "for n in n_vals:\n",
    "    I, u, v, x = create_arrays_prob_27(n)\n",
    "    start = time()\n",
    "    (I + u*np.transpose(v))@x \n",
    "    end = time()\n",
    "    compact_times.append(end-start)\n",
    "\n",
    "    start = time()\n",
    "    x + u*(np.transpose(v)*x)\n",
    "    end = time()\n",
    "    expanded_times.append(end-start)\n",
    "    "
   ]
  },
  {
   "cell_type": "markdown",
   "metadata": {},
   "source": [
    "For each $k$, find the ratio of the time it takes to compute $(I + \\mathbf{u} \\mathbf{v}^\\top)\\mathbf{x}$ versus $\\mathbf{x} + \\mathbf{u}(\\mathbf{v}^\\top \\mathbf{x})$.\n",
    "\n",
    "Store the result in the list `ratios`."
   ]
  },
  {
   "cell_type": "code",
   "execution_count": 25,
   "metadata": {},
   "outputs": [],
   "source": [
    "ratios = []\n",
    "\n",
    "for c, e in zip(compact_times, expanded_times):\n",
    "    ratios.append(c/e)"
   ]
  },
  {
   "cell_type": "markdown",
   "metadata": {},
   "source": [
    "Once you have done the above work, inspect the ratio of computation times by running the following cell:"
   ]
  },
  {
   "cell_type": "code",
   "execution_count": 26,
   "metadata": {},
   "outputs": [
    {
     "data": {
      "text/plain": [
       "[<matplotlib.lines.Line2D at 0x107b3d9d0>]"
      ]
     },
     "execution_count": 26,
     "metadata": {},
     "output_type": "execute_result"
    },
    {
     "data": {
      "image/png": "[encoded data removed]",
      "text/plain": [
       "<Figure size 640x480 with 1 Axes>"
      ]
     },
     "metadata": {},
     "output_type": "display_data"
    }
   ],
   "source": [
    "plt.plot(n_vals, ratios)"
   ]
  },
  {
   "cell_type": "markdown",
   "metadata": {},
   "source": [
    "Compare the computation times by describing how the ratio of the two grows as $n$ gets larger. \n",
    "Explain this in terms of the asymptotic temporal complexity of the two computations."
   ]
  },
  {
   "cell_type": "markdown",
   "metadata": {},
   "source": [
    "**Explanation**: _Compact time increases n more than expanded for each k.  compact requires 1 vector-vector-mult op, 1 matrix-matrix add op, and 1 matrix-vector mult op.  This is n + n^2 + 2n^2 respectively.  Expanded required 2 vector-vector mult and 1 vector-vector add.  Then compact and expanded leading order temporal flop complexity are 3n^2 and 3n respectively._"
   ]
  },
  {
   "cell_type": "markdown",
   "metadata": {},
   "source": [
    "---\n",
    "\n",
    "IMPORTANT: Please \"Restart and Run All\" and ensure there are no errors. Then, submit this .ipynb file to Gradescope."
   ]
  },
  {
   "cell_type": "markdown",
   "metadata": {},
   "source": [
    "compact: n + n^2 + 2n^2 = 3n^2\n",
    "expand: 2n +n = 3n"
   ]
  }
 ],
 "metadata": {
  "kernelspec": {
   "display_name": "caiman",
   "language": "python",
   "name": "python3"
  },
  "language_info": {
   "codemirror_mode": {
    "name": "ipython",
    "version": 3
   },
   "file_extension": ".py",
   "mimetype": "text/x-python",
   "name": "python",
   "nbconvert_exporter": "python",
   "pygments_lexer": "ipython3",
   "version": "3.11.10"
  }
 },
 "nbformat": 4,
 "nbformat_minor": 2
}
