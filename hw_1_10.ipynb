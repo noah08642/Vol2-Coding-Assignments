{
 "cells": [
  {
   "cell_type": "markdown",
   "metadata": {},
   "source": [
    "## Homework 1.10 - Coding\n",
    "\n",
    "This is the coding portion of the homework assignment for Section 1.10"
   ]
  },
  {
   "cell_type": "markdown",
   "metadata": {},
   "source": [
    "## Problem 1.64\n",
    "\n",
    "A sequence $(x_i)_{i=0}^{n}$ is _unimodal_ if it consists of an increasing sequence followed by a decreasing sequence; that is, there is some $k \\in \\{0, \\ldots, n\\}$ such that $x_{i-1} < x_{i}$ when $0 < i \\leq k$, and $x_{i+1} < x_{i}$ when $k \\leq i < n$."
   ]
  },
  {
   "cell_type": "markdown",
   "metadata": {},
   "source": [
    "### Part (i)\n",
    "\n",
    "Give an algorithm with temporal complexity $O(\\log n)$ that finds the maximal element $x_m$ of a unimodal sequence. (An informal description suffices here)\n"
   ]
  },
  {
   "cell_type": "markdown",
   "metadata": {},
   "source": [
    "**Algorithm Overview**: _search recursively through the middle element and its right neighbor.  If it's less than the right neighbor we're still increasing, and should return algo(L[n+1:]).  If it's more than right neighbor, return the left half._"
   ]
  },
  {
   "cell_type": "markdown",
   "metadata": {},
   "source": [
    "### Part (ii)\n",
    "\n",
    "Code up your algorithm inside the function `max_unimodal()`, and explain the details in the comments.\n",
    "\n",
    "The function should accept a list `L` of length $n$ containing a unimodal sequence of floating-point numbers, and should\n",
    "return the value of the maximal element in `L` in $O(\\log n)$ time."
   ]
  },
  {
   "cell_type": "code",
   "execution_count": 28,
   "metadata": {
    "tags": [
     "Problem 1.64(ii)"
    ]
   },
   "outputs": [],
   "source": [
    "def max_unimodal(L: list[float]) -> float:\n",
    "    \"\"\"Given a unimodal sequence of floating-point numbers,\n",
    "    returns the maximal element in O(log(n)) time.\n",
    "\n",
    "    Args:\n",
    "        L (list[float]): A list containing a unimodal sequence of floating-point numbers\n",
    "    \n",
    "    Returns:\n",
    "        float: The maximal element of the unimodal sequence\n",
    "    \"\"\"\n",
    "    # print(f\"L: {L}\")\n",
    "    # base case:\n",
    "    length = len(L)\n",
    "    if length == 1:\n",
    "        # print(f\"returning L[0]: {L[0]}\")\n",
    "        return L[0]\n",
    "\n",
    "    if length == 2:\n",
    "        return max(L[0], L[1])\n",
    "    \n",
    "    index = (length - 1) // 2\n",
    "\n",
    "    # print(f\"L[index] = {L[index]}\")    \n",
    "    # print(f\"L[index + 1] = {L[index + 1]}\")\n",
    "\n",
    "\n",
    "    if L[index] < L[index + 1]:\n",
    "        return max_unimodal(L[index + 1 :])\n",
    "    else:\n",
    "        return max_unimodal(L[: index + 1])\n",
    "    "
   ]
  },
  {
   "cell_type": "markdown",
   "metadata": {},
   "source": [
    "Here are a few toy test cases. Feel free to add to them to help make your code more robust."
   ]
  },
  {
   "cell_type": "code",
   "execution_count": 29,
   "metadata": {},
   "outputs": [
    {
     "name": "stdout",
     "output_type": "stream",
     "text": [
      "Succeeded test case 1\n",
      "Succeeded test case 2\n"
     ]
    }
   ],
   "source": [
    "assert max_unimodal([1,2,3,4,2,1]) == 4\n",
    "print(\"Succeeded test case 1\")\n",
    "\n",
    "assert max_unimodal([5]) == 5\n",
    "print(\"Succeeded test case 2\")"
   ]
  },
  {
   "cell_type": "markdown",
   "metadata": {},
   "source": [
    "### Part (iii)\n",
    "\n",
    "Prove the $O(\\log n)$ bound on the temporal complexity in the following cell (use LaTeX commands inside of dollar signs \\$ \\$ to write mathematical notation)."
   ]
  },
  {
   "cell_type": "markdown",
   "metadata": {},
   "source": [
    "**Proof:** _We write my recursive program like: $aT\\left(\\frac{n}{b}\\right) + f(n)$. It is: $1 \\cdot T\\left(\\frac{n}{2}\\right) + C$. By the Master Theorem, $b^d = 2^0 = 1 = a$, which implies that $T(n) \\in O(\\log n)$._\n"
   ]
  },
  {
   "cell_type": "markdown",
   "metadata": {},
   "source": [
    "---\n",
    "\n",
    "IMPORTANT: Please \"Restart and Run All\" and ensure there are no errors. Then, submit this .ipynb file to Gradescope."
   ]
  }
 ],
 "metadata": {
  "kernelspec": {
   "display_name": "caiman",
   "language": "python",
   "name": "python3"
  },
  "language_info": {
   "codemirror_mode": {
    "name": "ipython",
    "version": 3
   },
   "file_extension": ".py",
   "mimetype": "text/x-python",
   "name": "python",
   "nbconvert_exporter": "python",
   "pygments_lexer": "ipython3",
   "version": "3.11.10"
  }
 },
 "nbformat": 4,
 "nbformat_minor": 2
}
