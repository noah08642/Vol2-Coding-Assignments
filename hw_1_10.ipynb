{
 "cells": [
  {
   "cell_type": "markdown",
   "metadata": {},
   "source": [
    "## Homework 1.10 - Coding\n",
    "\n",
    "This is the coding portion of the homework assignment for Section 1.10"
   ]
  },
  {
   "cell_type": "markdown",
   "metadata": {},
   "source": [
    "## Problem 1.64\n",
    "\n",
    "A sequence $(x_i)_{i=0}^{n}$ is _unimodal_ if it consists of an increasing sequence followed by a decreasing sequence; that is, there is some $k \\in \\{0, \\ldots, n\\}$ such that $x_{i-1} < x_{i}$ when $0 < i \\leq k$, and $x_{i+1} < x_{i}$ when $k \\leq i < n$."
   ]
  },
  {
   "cell_type": "markdown",
   "metadata": {},
   "source": [
    "### Part (i)\n",
    "\n",
    "Give an algorithm with temporal complexity $O(\\log n)$ that finds the maximal element $x_m$ of a unimodal sequence. (An informal description suffices here)\n"
   ]
  },
  {
   "cell_type": "markdown",
   "metadata": {},
   "source": [
    "**Algorithm Overview**: _search recursively through the middle element and its right neighbor.  If it's less than the right neighbor we're still increasing, and should return algo(L[n+1:]).  If it's more than right neighbor, return the left half._"
   ]
  },
  {
   "cell_type": "markdown",
   "metadata": {},
   "source": [
    "### Part (ii)\n",
    "\n",
    "Code up your algorithm inside the function `max_unimodal()`, and explain the details in the comments.\n",
    "\n",
    "The function should accept a list `L` of length $n$ containing a unimodal sequence of floating-point numbers, and should\n",
    "return the value of the maximal element in `L` in $O(\\log n)$ time."
   ]
  },
  {
   "cell_type": "code",
   "execution_count": 18,
   "metadata": {
    "tags": [
     "Problem 1.64(ii)"
    ]
   },
   "outputs": [],
   "source": [
    "def max_unimodal(L: list[float]) -> float:\n",
    "    \"\"\"Given a unimodal sequence of floating-point numbers,\n",
    "    returns the maximal element in O(log(n)) time.\n",
    "\n",
    "    Args:\n",
    "        L (list[float]): A list containing a unimodal sequence of floating-point numbers\n",
    "    \n",
    "    Returns:\n",
    "        float: The maximal element of the unimodal sequence\n",
    "    \"\"\"\n",
    "    print(f\"L: {L}\")\n",
    "    # base case:\n",
    "    length = len(L)\n",
    "    if length == 1:\n",
    "        print(f\"returning L[0]: {L[0]}\")\n",
    "        return L[0]\n",
    "    \n",
    "    index = (length - 1) // 2\n",
    "\n",
    "    print(f\"L[index] = {L[index]}\")    \n",
    "    print(f\"L[index + 1] = {L[index + 1]}\")\n",
    "\n",
    "\n",
    "    if L[index] < L[index + 1]:\n",
    "        return max_unimodal(L[index + 1 :])\n",
    "    else:\n",
    "        return max_unimodal(L[: index])\n",
    "    "
   ]
  },
  {
   "cell_type": "markdown",
   "metadata": {},
   "source": [
    "Here are a few toy test cases. Feel free to add to them to help make your code more robust."
   ]
  },
  {
   "cell_type": "code",
   "execution_count": 19,
   "metadata": {},
   "outputs": [
    {
     "name": "stdout",
     "output_type": "stream",
     "text": [
      "L: [1, 2, 3, 4, 2, 1]\n",
      "L[index] = 3\n",
      "L[index + 1] = 4\n",
      "L: [4, 2, 1]\n",
      "L[index] = 4\n",
      "L[index + 1] = 2\n",
      "L: []\n"
     ]
    },
    {
     "ename": "IndexError",
     "evalue": "list index out of range",
     "output_type": "error",
     "traceback": [
      "\u001b[0;31m---------------------------------------------------------------------------\u001b[0m",
      "\u001b[0;31mIndexError\u001b[0m                                Traceback (most recent call last)",
      "Cell \u001b[0;32mIn[19], line 1\u001b[0m\n\u001b[0;32m----> 1\u001b[0m \u001b[38;5;28;01massert\u001b[39;00m \u001b[43mmax_unimodal\u001b[49m\u001b[43m(\u001b[49m\u001b[43m[\u001b[49m\u001b[38;5;241;43m1\u001b[39;49m\u001b[43m,\u001b[49m\u001b[38;5;241;43m2\u001b[39;49m\u001b[43m,\u001b[49m\u001b[38;5;241;43m3\u001b[39;49m\u001b[43m,\u001b[49m\u001b[38;5;241;43m4\u001b[39;49m\u001b[43m,\u001b[49m\u001b[38;5;241;43m2\u001b[39;49m\u001b[43m,\u001b[49m\u001b[38;5;241;43m1\u001b[39;49m\u001b[43m]\u001b[49m\u001b[43m)\u001b[49m \u001b[38;5;241m==\u001b[39m \u001b[38;5;241m4\u001b[39m\n\u001b[1;32m      2\u001b[0m \u001b[38;5;28mprint\u001b[39m(\u001b[38;5;124m\"\u001b[39m\u001b[38;5;124mSucceeded test case 1\u001b[39m\u001b[38;5;124m\"\u001b[39m)\n\u001b[1;32m      4\u001b[0m \u001b[38;5;28;01massert\u001b[39;00m max_unimodal([\u001b[38;5;241m5\u001b[39m]) \u001b[38;5;241m==\u001b[39m \u001b[38;5;241m5\u001b[39m\n",
      "Cell \u001b[0;32mIn[18], line 25\u001b[0m, in \u001b[0;36mmax_unimodal\u001b[0;34m(L)\u001b[0m\n\u001b[1;32m     21\u001b[0m \u001b[38;5;28mprint\u001b[39m(\u001b[38;5;124mf\u001b[39m\u001b[38;5;124m\"\u001b[39m\u001b[38;5;124mL[index + 1] = \u001b[39m\u001b[38;5;132;01m{\u001b[39;00mL[index\u001b[38;5;250m \u001b[39m\u001b[38;5;241m+\u001b[39m\u001b[38;5;250m \u001b[39m\u001b[38;5;241m1\u001b[39m]\u001b[38;5;132;01m}\u001b[39;00m\u001b[38;5;124m\"\u001b[39m)\n\u001b[1;32m     24\u001b[0m \u001b[38;5;28;01mif\u001b[39;00m L[index] \u001b[38;5;241m<\u001b[39m L[index \u001b[38;5;241m+\u001b[39m \u001b[38;5;241m1\u001b[39m]:\n\u001b[0;32m---> 25\u001b[0m     \u001b[38;5;28;01mreturn\u001b[39;00m \u001b[43mmax_unimodal\u001b[49m\u001b[43m(\u001b[49m\u001b[43mL\u001b[49m\u001b[43m[\u001b[49m\u001b[43mindex\u001b[49m\u001b[43m \u001b[49m\u001b[38;5;241;43m+\u001b[39;49m\u001b[43m \u001b[49m\u001b[38;5;241;43m1\u001b[39;49m\u001b[43m \u001b[49m\u001b[43m:\u001b[49m\u001b[43m]\u001b[49m\u001b[43m)\u001b[49m\n\u001b[1;32m     26\u001b[0m \u001b[38;5;28;01melse\u001b[39;00m:\n\u001b[1;32m     27\u001b[0m     \u001b[38;5;28;01mreturn\u001b[39;00m max_unimodal(L[: index])\n",
      "Cell \u001b[0;32mIn[18], line 27\u001b[0m, in \u001b[0;36mmax_unimodal\u001b[0;34m(L)\u001b[0m\n\u001b[1;32m     25\u001b[0m     \u001b[38;5;28;01mreturn\u001b[39;00m max_unimodal(L[index \u001b[38;5;241m+\u001b[39m \u001b[38;5;241m1\u001b[39m :])\n\u001b[1;32m     26\u001b[0m \u001b[38;5;28;01melse\u001b[39;00m:\n\u001b[0;32m---> 27\u001b[0m     \u001b[38;5;28;01mreturn\u001b[39;00m \u001b[43mmax_unimodal\u001b[49m\u001b[43m(\u001b[49m\u001b[43mL\u001b[49m\u001b[43m[\u001b[49m\u001b[43m:\u001b[49m\u001b[43m \u001b[49m\u001b[43mindex\u001b[49m\u001b[43m]\u001b[49m\u001b[43m)\u001b[49m\n",
      "Cell \u001b[0;32mIn[18], line 20\u001b[0m, in \u001b[0;36mmax_unimodal\u001b[0;34m(L)\u001b[0m\n\u001b[1;32m     16\u001b[0m     \u001b[38;5;28;01mreturn\u001b[39;00m L[\u001b[38;5;241m0\u001b[39m]\n\u001b[1;32m     18\u001b[0m index \u001b[38;5;241m=\u001b[39m (length \u001b[38;5;241m/\u001b[39m\u001b[38;5;241m/\u001b[39m \u001b[38;5;241m2\u001b[39m) \u001b[38;5;241m-\u001b[39m \u001b[38;5;241m1\u001b[39m\n\u001b[0;32m---> 20\u001b[0m \u001b[38;5;28mprint\u001b[39m(\u001b[38;5;124mf\u001b[39m\u001b[38;5;124m\"\u001b[39m\u001b[38;5;124mL[index] = \u001b[39m\u001b[38;5;132;01m{\u001b[39;00m\u001b[43mL\u001b[49m\u001b[43m[\u001b[49m\u001b[43mindex\u001b[49m\u001b[43m]\u001b[49m\u001b[38;5;132;01m}\u001b[39;00m\u001b[38;5;124m\"\u001b[39m)    \n\u001b[1;32m     21\u001b[0m \u001b[38;5;28mprint\u001b[39m(\u001b[38;5;124mf\u001b[39m\u001b[38;5;124m\"\u001b[39m\u001b[38;5;124mL[index + 1] = \u001b[39m\u001b[38;5;132;01m{\u001b[39;00mL[index\u001b[38;5;250m \u001b[39m\u001b[38;5;241m+\u001b[39m\u001b[38;5;250m \u001b[39m\u001b[38;5;241m1\u001b[39m]\u001b[38;5;132;01m}\u001b[39;00m\u001b[38;5;124m\"\u001b[39m)\n\u001b[1;32m     24\u001b[0m \u001b[38;5;28;01mif\u001b[39;00m L[index] \u001b[38;5;241m<\u001b[39m L[index \u001b[38;5;241m+\u001b[39m \u001b[38;5;241m1\u001b[39m]:\n",
      "\u001b[0;31mIndexError\u001b[0m: list index out of range"
     ]
    }
   ],
   "source": [
    "assert max_unimodal([1,2,3,4,2,1]) == 4\n",
    "print(\"Succeeded test case 1\")\n",
    "\n",
    "assert max_unimodal([5]) == 5\n",
    "print(\"Succeeded test case 2\")"
   ]
  },
  {
   "cell_type": "code",
   "execution_count": null,
   "metadata": {},
   "outputs": [],
   "source": [
    "# Here is a code cell where you can write out some scratch code/test things to see if they work.\n",
    "# Feel free to use it and to add more cells\n",
    "# However, the only thing graded will be the code in your function, so feel free to \n",
    "# delete your scratch work when you're done."
   ]
  },
  {
   "cell_type": "markdown",
   "metadata": {},
   "source": [
    "### Part (iii)\n",
    "\n",
    "Prove the $O(\\log n)$ bound on the temporal complexity in the following cell (use LaTeX commands inside of dollar signs \\$ \\$ to write mathematical notation)."
   ]
  },
  {
   "cell_type": "markdown",
   "metadata": {},
   "source": [
    "**Proof:** _Delete this text and type up your proof here_"
   ]
  },
  {
   "cell_type": "markdown",
   "metadata": {},
   "source": [
    "---\n",
    "\n",
    "IMPORTANT: Please \"Restart and Run All\" and ensure there are no errors. Then, submit this .ipynb file to Gradescope."
   ]
  }
 ],
 "metadata": {
  "kernelspec": {
   "display_name": "caiman",
   "language": "python",
   "name": "python3"
  },
  "language_info": {
   "codemirror_mode": {
    "name": "ipython",
    "version": 3
   },
   "file_extension": ".py",
   "mimetype": "text/x-python",
   "name": "python",
   "nbconvert_exporter": "python",
   "pygments_lexer": "ipython3",
   "version": "3.11.10"
  }
 },
 "nbformat": 4,
 "nbformat_minor": 2
}
