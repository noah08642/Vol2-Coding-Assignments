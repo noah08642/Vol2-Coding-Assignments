{
 "cells": [
  {
   "cell_type": "markdown",
   "metadata": {},
   "source": [
    "# Homework 5.3 - Coding\n",
    "\n",
    "This is the coding portion of the homework assignment for Section 5.3"
   ]
  },
  {
   "cell_type": "code",
   "execution_count": 2,
   "metadata": {
    "tags": [
     "imports"
    ]
   },
   "outputs": [],
   "source": [
    "import numpy as np\n",
    "from matplotlib import pyplot as plt"
   ]
  },
  {
   "cell_type": "markdown",
   "metadata": {},
   "source": [
    "## Problem 5.16 (Plotting)\n",
    "\n",
    "This problem inspects the probability of actually having cancer, given a positive diagnosis, as a function of various quantities."
   ]
  },
  {
   "cell_type": "markdown",
   "metadata": {},
   "source": [
    "### False Positive Rate\n",
    "\n",
    "Write a function `prob_false_positive`, which returns the probability of having cancer given a positive diagnosis, as function of the false positive rate. \n",
    "\n",
    "This function should accept a numpy array `fp` of various false positive rates, and should return the desired probability as a numpy array of the same size."
   ]
  },
  {
   "cell_type": "code",
   "execution_count": 3,
   "metadata": {
    "tags": [
     "Problem 5.16(a)"
    ]
   },
   "outputs": [],
   "source": [
    "def prob_false_positive(fp: np.ndarray) -> np.ndarray:\n",
    "    \"\"\"Returns the probability of having cancer given a positive diagnosis\n",
    "    as a function of the false positive rate of the test.\"\"\"\n",
    "    ...     # Delete this line and write your code here"
   ]
  },
  {
   "cell_type": "markdown",
   "metadata": {},
   "source": [
    "Now, write some code that calls `prob_false_positive()` to plot the probability of having cancer given a positive diagnosis on the y-axis, versus the false positive rate on the x-axis. \n",
    "\n",
    "Use false positive rates from 0.1% to 10%. \n",
    "\n",
    "Label each of your axes, and give your plot a title.\n",
    "\n",
    "Finally, show the plot."
   ]
  },
  {
   "cell_type": "code",
   "execution_count": null,
   "metadata": {},
   "outputs": [],
   "source": [
    "...    # Delete this line and write the desired code"
   ]
  },
  {
   "cell_type": "markdown",
   "metadata": {},
   "source": [
    "### False Negative Rate\n",
    "\n",
    "Write a function `prob_false_negative`, which returns the probability of having cancer given a positive diagnosis, as function of the negative rate. \n",
    "\n",
    "This function should accept a numpy array `fn` of various false negative rates, and should return the desired probability as a numpy array of the same size."
   ]
  },
  {
   "cell_type": "code",
   "execution_count": 5,
   "metadata": {
    "tags": [
     "Problem 5.16(b)"
    ]
   },
   "outputs": [],
   "source": [
    "def prob_false_negative(fn: np.ndarray) -> np.ndarray:\n",
    "    \"\"\"Returns the probability of having cancer given a positive diagnosis\n",
    "    as a function of the false negative rate of the test.\"\"\"\n",
    "    ...     # Delete this line and write your code here"
   ]
  },
  {
   "cell_type": "markdown",
   "metadata": {},
   "source": [
    "Now, write some code that calls `prob_false_negative()` to plot the probability of having cancer given a positive diagnosis on the y-axis, versus the false negative rate on the x-axis. \n",
    "\n",
    "Use false negative rates from 0.1% to 10%. \n",
    "\n",
    "Label each of your axes, and give your plot a title.\n",
    "\n",
    "Finally, show the plot."
   ]
  },
  {
   "cell_type": "code",
   "execution_count": null,
   "metadata": {},
   "outputs": [],
   "source": [
    "...    # Delete this line and write the desired code"
   ]
  },
  {
   "cell_type": "markdown",
   "metadata": {},
   "source": [
    "### Incidence\n",
    "\n",
    "Write a function `prob_incidence`, which returns the probability of having cancer given a positive diagnosis, as function of the incidence of the cancer in the general population.\n",
    "\n",
    "This function should accept a numpy array `inc` of various incidence rates, and should return the desired probability as a numpy array of the same size."
   ]
  },
  {
   "cell_type": "code",
   "execution_count": 6,
   "metadata": {
    "tags": [
     "Problem 5.16(c)"
    ]
   },
   "outputs": [],
   "source": [
    "def prob_incidence(inc: np.ndarray) -> np.ndarray:\n",
    "    \"\"\"Returns the probability of having cancer given a positive diagnosis\n",
    "    as a function of the incidence rate of the cancer in the general population\"\"\"\n",
    "    ...     # Delete this line and write your code here"
   ]
  },
  {
   "cell_type": "markdown",
   "metadata": {},
   "source": [
    "Now, write some code that calls `prob_incidence()` to plot the probability of having cancer given a positive diagnosis on the y-axis, versus the incidence rate of cander on the x-axis. \n",
    "\n",
    "Use incidence rates from 0.1% to 5%. \n",
    "\n",
    "Label each of your axes, and give your plot a title.\n",
    "\n",
    "Finally, show the plot."
   ]
  },
  {
   "cell_type": "code",
   "execution_count": null,
   "metadata": {},
   "outputs": [],
   "source": [
    "...    # Delete this line and write the desired code"
   ]
  },
  {
   "cell_type": "markdown",
   "metadata": {},
   "source": [
    "---\n",
    "\n",
    "IMPORTANT: Please \"Restart and Run All\" and ensure there are no errors. Then, submit this .ipynb file to Gradescope."
   ]
  }
 ],
 "metadata": {
  "kernelspec": {
   "display_name": "venv",
   "language": "python",
   "name": "python3"
  },
  "language_info": {
   "codemirror_mode": {
    "name": "ipython",
    "version": 3
   },
   "file_extension": ".py",
   "mimetype": "text/x-python",
   "name": "python",
   "nbconvert_exporter": "python",
   "pygments_lexer": "ipython3",
   "version": "3.10.11"
  }
 },
 "nbformat": 4,
 "nbformat_minor": 2
}
