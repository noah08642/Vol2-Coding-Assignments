{
 "cells": [
  {
   "cell_type": "markdown",
   "metadata": {},
   "source": [
    "# Homework 1.2 - Coding Portion\n",
    "\n",
    "This is the coding portion of the homework assignment for Section 1.2."
   ]
  },
  {
   "cell_type": "markdown",
   "metadata": {},
   "source": [
    "## Problem 1.13\n",
    "\n",
    "Construct an algorithm for finding the index of the smallest element in a list $L$ of length $n$, using only primitive operations (that is, assigning a value to a variable or to a given position in a list, looking up the value of a particular element at a given position in a list, comparing two values, incrementing a value, etc.)"
   ]
  },
  {
   "cell_type": "markdown",
   "metadata": {},
   "source": [
    "### Part (i)\n",
    "\n",
    "Code up the algorithm inside the function `argmin()`.\n",
    "\n",
    "Your code should accept a list `L` of floating-point numbers, and return the _index_ of the smallest element in the list (_not_ the smallest element itself).\n",
    "\n",
    "If there is a tie for the smallest value, give the index of the smallest one.\n",
    "\n",
    "You may not use any outside packages or sorting routines (such as those found in `numpy`) - you may only use primitive operations."
   ]
  },
  {
   "cell_type": "code",
   "execution_count": 1,
   "metadata": {
    "tags": [
     "Problem 1.13(i)"
    ]
   },
   "outputs": [],
   "source": [
    "def argmin(L: list[float]) -> int:\n",
    "    \"\"\"\n",
    "    Takes in a list L of floating-point numbers and finds the index \n",
    "    of the minimum element using only primitive operations.\n",
    "\n",
    "    If there is a tie for the smallest value, gives the index \n",
    "    of the first one.\n",
    "    \n",
    "    Args:\n",
    "        L (list[float]) - A list of numbers, with length n\n",
    "    \n",
    "    Returns:\n",
    "        int: An integer representing the index of the least \n",
    "          element in the list. \n",
    "    \"\"\"\n",
    "    i = 0\n",
    "    l = len(L)\n",
    "    smallest_idx = 0\n",
    "\n",
    "    # iterate through L, finding the max_idx\n",
    "    while i < l:\n",
    "        if L[i] < L[smallest_idx]:\n",
    "            smallest_idx = i \n",
    "        i += 1\n",
    "    \n",
    "    return smallest_idx"
   ]
  },
  {
   "cell_type": "markdown",
   "metadata": {},
   "source": [
    "The following cell contains some sample test cases of expected output.\n",
    "\n",
    "If you run it and it prints no output, you're all set!\n",
    "\n",
    "If you run it and it gets any sort of error (such as an `AssertionError`), your output does not match the expected output. Go back and fix your code accordingly.\n",
    "\n",
    "(NOTE: This is not an exhaustive list of test cases, and these are not the test cases we will necessarily use to grade your submission. However, this is meant to help get you on the right track. Feel free to add your own test cases to them - we have a separate autograder for the function itself.)"
   ]
  },
  {
   "cell_type": "code",
   "execution_count": 2,
   "metadata": {},
   "outputs": [],
   "source": [
    "assert argmin([1,2,3,4]) == 0\n",
    "assert argmin([4,3,2,1]) == 3 \n",
    "assert argmin([1.5, 3.5, -0.5]) == 2\n",
    "assert argmin([-0.5, -1.5, -1.5, 2]) == 1"
   ]
  },
  {
   "cell_type": "markdown",
   "metadata": {},
   "source": [
    "### Part (ii)\n",
    "\n",
    "Give the leading-order temporal and spatial complexity of this algorithm as a function of $n$ (where $n$ is the length of the list `L`)\n"
   ]
  },
  {
   "cell_type": "markdown",
   "metadata": {},
   "source": [
    "**Spatial Compelxity (Leading-Order)**: _(n)_\n",
    "\n",
    "**Justification**: _L is the only thing that grows with n, and linearly_\n",
    "\n",
    "\n"
   ]
  },
  {
   "cell_type": "markdown",
   "metadata": {},
   "source": [
    "**Temporal Compelxity (Leading-Order)**: _(7n)_\n",
    "\n",
    "**Justification**: _there are 7 primitive ops in the while loop_"
   ]
  },
  {
   "cell_type": "markdown",
   "metadata": {},
   "source": [
    "---"
   ]
  },
  {
   "cell_type": "markdown",
   "metadata": {},
   "source": [
    "## Problem 1.14\n",
    "\n",
    "Consider the following sorting algorithm, called _selection sort_.\n",
    "\n",
    "Given a list `L` of length $n$:\n",
    "\n",
    "1. Find the smallest element of `L` and swap it with the element `L[0]`.\n",
    "2. Find the second-smallest element of of `L` and swap it with the element `L[1]`.\n",
    "3. ... and so forth ... (for the first $n-1$ elements of the list)"
   ]
  },
  {
   "cell_type": "markdown",
   "metadata": {},
   "source": [
    "### Part (i)\n",
    "\n",
    "Explain why the algorithm needs only to run through $n-1$ elements instead of all $n$."
   ]
  },
  {
   "cell_type": "markdown",
   "metadata": {},
   "source": [
    "**Explanation**: _(because the last element is necessarily going to be the largest, since all the smallest will already have been pulled to the left)_"
   ]
  },
  {
   "cell_type": "markdown",
   "metadata": {},
   "source": [
    "### Part (ii)\n",
    "\n",
    "Code up this sorting algorithm in the function `selection_sort()`.\n",
    "\n",
    "Your code should accept a list `L` of floating-point numbers, and should return a sorted version of `L`, sorted least to greatest.\n",
    "\n",
    "You many not use any built-in sorting or indexing functions.\n",
    "(You _may_ use the `argmin()` function you wrote in the previous problem)"
   ]
  },
  {
   "cell_type": "code",
   "execution_count": 4,
   "metadata": {
    "tags": [
     "Problem 1.14(ii)"
    ]
   },
   "outputs": [],
   "source": [
    "def selection_sort(L: list[float]) -> list[float]:\n",
    "    \"\"\"\n",
    "    Takes in a list L and performs a selection sort algorithm\n",
    "    on the list.\n",
    "    \n",
    "    Args:\n",
    "        L (list[float]) - A list of length n\n",
    "    \n",
    "    Returns:\n",
    "        list[float] - The sorted list L, sorted from least to greatest\n",
    "    \"\"\"\n",
    "    end = len(L) - 1\n",
    "    j = 0\n",
    "    while j < end:\n",
    "        local_smallest_idx = argmin(L[j:])\n",
    "        global_smallest_idx = j + local_smallest_idx\n",
    "        \n",
    "        # do the switch\n",
    "        small_num = L[global_smallest_idx]\n",
    "        L[global_smallest_idx] = L[j]\n",
    "        L[j] = small_num\n",
    "        j += 1\n",
    "\n",
    "    return L"
   ]
  },
  {
   "cell_type": "markdown",
   "metadata": {},
   "source": [
    "Again, here are some sample test cases. Add to them as needed to make your code more robust."
   ]
  },
  {
   "cell_type": "code",
   "execution_count": 5,
   "metadata": {},
   "outputs": [],
   "source": [
    "assert selection_sort([1, 2, 3, 4]) == [1, 2, 3, 4]\n",
    "assert selection_sort([4, 3, 2, 1]) == [1, 2, 3, 4]\n",
    "assert selection_sort([3, 1, 4, 2]) == [1, 2, 3, 4]\n",
    "assert selection_sort([1.5, -3.5, -5.2, 8.7]) == [-5.2, -3.5, 1.5, 8.7]"
   ]
  },
  {
   "cell_type": "code",
   "execution_count": 6,
   "metadata": {},
   "outputs": [],
   "source": [
    "# Here is a code cell where you can run additional scratch work.\n",
    "# You can add more of these as you work the problem (and delete any you don't need anymore).\n",
    "# IMPORTANT: the only thing that will be actually graded is the function itself."
   ]
  },
  {
   "cell_type": "markdown",
   "metadata": {},
   "source": [
    "### Part (iii)\n",
    "\n",
    "Give the leading-order temporal and spatial complexity for this algorithm as a function of $n$ (where $n$ is the length of the list `L`)."
   ]
  },
  {
   "cell_type": "markdown",
   "metadata": {},
   "source": [
    "**Spatial Compelxity (Leading-Order)**: _(n)_\n",
    "\n",
    "**Justification**: _(the most we store at any point(dependent on n) is L)_"
   ]
  },
  {
   "cell_type": "markdown",
   "metadata": {},
   "source": [
    "**Temporal Compelxity (Leading-Order)**: _(7n^2)_\n",
    "\n",
    "**Justification**: _(argmin is run (n - 1) times, which multiplied by its 7n complexity yeilds a leading order complexity of 7n^2)_"
   ]
  }
 ],
 "metadata": {
  "kernelspec": {
   "display_name": "caiman",
   "language": "python",
   "name": "python3"
  },
  "language_info": {
   "codemirror_mode": {
    "name": "ipython",
    "version": 3
   },
   "file_extension": ".py",
   "mimetype": "text/x-python",
   "name": "python",
   "nbconvert_exporter": "python",
   "pygments_lexer": "ipython3",
   "version": "3.11.10"
  }
 },
 "nbformat": 4,
 "nbformat_minor": 2
}
