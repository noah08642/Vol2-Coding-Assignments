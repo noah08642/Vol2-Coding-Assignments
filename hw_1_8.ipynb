{
  "cells": [
    {
      "cell_type": "markdown",
      "metadata": {
        "id": "wM6czguU2o4v"
      },
      "source": [
        "## Homework 1.8 - Coding\n",
        "\n",
        "This is the coding portion of the homework assignment for Section 1.8"
      ]
    },
    {
      "cell_type": "markdown",
      "metadata": {
        "id": "KmCr4dv42o4y"
      },
      "source": [
        "## Problem 1.51\n",
        "\n",
        "Code up the extended Euclidean algorithm from scratch inside the method `euclid()`, without importing any additional methods or libraries.\n",
        "\n",
        "Your code should accept two integers $a$ and $b$, and return $\\gcd(a,b)$, as well as the integers $x,y$ satisfying $ax+by = \\gcd(a,b)$\n",
        "\n"
      ]
    },
    {
      "cell_type": "code",
      "execution_count": 8,
      "metadata": {
        "tags": [
          "Problem 1.51"
        ],
        "id": "qC7aNwjf2o4y"
      },
      "outputs": [],
      "source": [
        "def euclid(a: int, b: int) -> tuple[int, int, int]:\n",
        "    \"\"\"Returns gcd(a,b), along with x and y\n",
        "    such that ax + by = gcd(a,b).\n",
        "\n",
        "    Finds these numbers using the extended Euclidean\n",
        "    algorithm.\n",
        "\n",
        "    Args:\n",
        "        a, b - Two integers to find the GCD of.\n",
        "\n",
        "    Returns:\n",
        "        gcd (int)- The greatest common divisor of a and b\n",
        "        x (int) - The coefficient of a such that ax + by = gcd\n",
        "        y (int) - The coefficeint of b such that ax + by = gcd\n",
        "    \"\"\"\n",
        "\n",
        "\n",
        "\n",
        "    # TODO Change this code.\n",
        "\n",
        "    if b == 0 : # base case\n",
        "      return (a, 1, 0)\n",
        "\n",
        "    q = a // b\n",
        "    r = a%b\n",
        "\n",
        "    gcd, x_hat, y_hat = euclid(b , r)\n",
        "\n",
        "    # extended euclidean part\n",
        "\n",
        "    x = y_hat\n",
        "    y = x_hat - q*y_hat\n",
        "\n",
        "\n",
        "    # Do not edit this line. Return these variables\n",
        "    return (gcd, x, y)"
      ]
    },
    {
      "cell_type": "markdown",
      "metadata": {
        "id": "ynvtAjjm2o4z"
      },
      "source": [
        "Here are a few tests you can run to ensure that your code is running correctly. Feel free to add to them to catch any other cases you might need."
      ]
    },
    {
      "cell_type": "code",
      "execution_count": 9,
      "metadata": {
        "id": "hluQTGoE2o40"
      },
      "outputs": [],
      "source": [
        "assert euclid(32, 64) == (32, 1, 0)\n",
        "assert euclid(84, 80) == (4, 1, -1)\n",
        "assert euclid(42, 144) == (6, 7, -2)"
      ]
    },
    {
      "cell_type": "code",
      "execution_count": null,
      "metadata": {
        "id": "4Wih0IR22o40"
      },
      "outputs": [],
      "source": [
        "# Here is a code cell you can use for scratch work, etc.\n",
        "# Feel free to add more cells as you need.\n",
        "# The work here will not be graded - and you can/should delete it once your function is written"
      ]
    },
    {
      "cell_type": "markdown",
      "metadata": {
        "id": "GkKedWhu2o40"
      },
      "source": [
        "---\n",
        "\n",
        "IMPORTANT: Please \"Restart and Run All\" and ensure there are no errors. Then, submit this .ipynb file to Gradescope."
      ]
    }
  ],
  "metadata": {
    "kernelspec": {
      "display_name": "venv",
      "language": "python",
      "name": "python3"
    },
    "language_info": {
      "codemirror_mode": {
        "name": "ipython",
        "version": 3
      },
      "file_extension": ".py",
      "mimetype": "text/x-python",
      "name": "python",
      "nbconvert_exporter": "python",
      "pygments_lexer": "ipython3",
      "version": "3.10.11"
    },
    "colab": {
      "provenance": []
    }
  },
  "nbformat": 4,
  "nbformat_minor": 0
}