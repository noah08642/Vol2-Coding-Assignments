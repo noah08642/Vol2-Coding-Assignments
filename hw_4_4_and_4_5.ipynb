{
 "cells": [
  {
   "cell_type": "markdown",
   "metadata": {},
   "source": [
    "# Homework 4.4/4.5 - Coding\n",
    "\n",
    "This is the coding portion of the homework assignment for Sections 4.4 and 4.5"
   ]
  },
  {
   "cell_type": "markdown",
   "metadata": {},
   "source": [
    "## Problem 4.26\n",
    "\n",
    "Implement the dynamic programming algorithm for the {0,1}-knapsack problem (where no multiples are allowed) in the function `knapsack()`. This is the algorithm described in Section 4.5.1 of the textbook.\n",
    "\n",
    "Your code should accept as input a maximum weight `W` and a list `Items` of tuples of the form (weight, value).\n",
    "\n",
    "Your code should return the maximum value that can be carried in the knapsack for the given `Items` and weight `W`.\n",
    "\n",
    "**IMPORTANT INFORMATION/ALGORITHM CLARIFICATION**\n",
    "\n",
    "The algorithm in the textbook has a major typo, and the recursive relation should read:\n",
    "\n",
    "$$M(i,w) = \\max\\left(M(i-1,w), v_i + M(i-1, w-w_i)\\right)$$"
   ]
  },
  {
   "cell_type": "code",
   "execution_count": 1,
   "metadata": {
    "tags": [
     "Problem 4.26"
    ]
   },
   "outputs": [],
   "source": [
    "import numpy as np\n",
    "def knapsack(W: float, Items: list[tuple[float, float]]) -> float:\n",
    "    \"\"\"Solves the {0,1}-knapsack problem (with no multiples)\n",
    "    using dynamic programming.\n",
    "    \n",
    "    Args:\n",
    "        W (int): The maximum weight the knapsack can hold\n",
    "        Items (list[tuple[int, float]]): The list of items to be considered, in the form\n",
    "            of tuples (weight, value)\n",
    "    \n",
    "    Returns:\n",
    "        float: The maximum value that can be carried in the knapsack\n",
    "            without exceeding the weight capacity.\n",
    "    \"\"\"\n",
    "    \n",
    "    n = len(Items)\n",
    "    M = np.zeros((n + 1, int(W) + 1))\n",
    "\n",
    "    for i in range(1, n + 1): # for each item\n",
    "        for w in range(0, int(W) + 1): # for each integer weight\n",
    "            w_i, v_i = Items[i - 1] # weight and value of the last item\n",
    "            if w_i > w: # if weight of last item is greater that current weight we are examining:\n",
    "                M[i, w] = M[i-1, w] # the maximal value achievable at this item count, weight is what it was before we added this item.\n",
    "            else: # new item can fit\n",
    "                # new item is not included in knapsack vs item is included\n",
    "                M[i, w] = max(M[i - 1, w], v_i + M[i - 1, w - w_i])\n",
    "\n",
    "    return M[n, int(W)]\n"
   ]
  },
  {
   "cell_type": "markdown",
   "metadata": {},
   "source": [
    "Here are some basic test cases. Feel free to add to them to help make your code more robust."
   ]
  },
  {
   "cell_type": "code",
   "execution_count": 2,
   "metadata": {},
   "outputs": [
    {
     "name": "stdout",
     "output_type": "stream",
     "text": [
      "Passed Test Case 1\n",
      "Passed Test Case 2\n"
     ]
    }
   ],
   "source": [
    "assert knapsack(50, [(30, 0.6), (20, 0.5)]) == 1.1, \"Failed Test Case 1\"\n",
    "print(\"Passed Test Case 1\")\n",
    "\n",
    "assert knapsack(50, [(30, 0.6), (20, 0.5), (25, 1.1)]) == 1.6, \"Failed Test Case 2\"\n",
    "print(\"Passed Test Case 2\")"
   ]
  },
  {
   "cell_type": "code",
   "execution_count": 3,
   "metadata": {},
   "outputs": [],
   "source": [
    "# Here is a code cell you can use for scratch work.\n",
    "# Add more code cells as you need, but only the work inside the function will be graded"
   ]
  },
  {
   "cell_type": "markdown",
   "metadata": {},
   "source": [
    "---\n",
    "\n",
    "## Problem 4.27\n",
    "\n",
    "Modify the algorithm in the previous problem to _also_ return a list of which items should be included to achieve the maximum value. Code this up in the function `knapsack_with_items()`.\n",
    "\n",
    "Your code should accept as input a maximum weight `W` and a list `Items` of tuples of the form (weight, value).\n",
    "\n",
    "Your code should return:\n",
    "1. The maximum value that can be carried in the knapsack for the given `Items` and weight `W`.\n",
    "2. A list of items which should be included to achieve the maximum value. This should be returned as a list\n",
    "   of integers, each representing the index of an item from `Items` to include.\n"
   ]
  },
  {
   "cell_type": "code",
   "execution_count": null,
   "metadata": {
    "tags": [
     "Problem 4.27"
    ]
   },
   "outputs": [],
   "source": [
    "def knapsack_with_items(W: int, Items: list[tuple[int, float]]) -> tuple[float, list[int]]:\n",
    "    import numpy as np\n",
    "    \"\"\"Solves the {0,1}-knapsack problem (with no multiples)\n",
    "    using dynamic programming.\n",
    "    \n",
    "    Args:\n",
    "        W (int): The maximum weight the knapsack can hold\n",
    "        Items (list[tuple[int, float]]): The list of items to be considered, in the form\n",
    "            of tuples (weight, value)\n",
    "    \n",
    "    Returns:\n",
    "        int: The maximum weight that can be carried in the knapsack\n",
    "            without exceeding the weight capacity.\n",
    "        list[int]: The indexes of the items in Items to include in\n",
    "            the knapsack to acheve this maximum value\n",
    "    \"\"\"\n",
    "    n = len(Items)\n",
    "    M = np.zeros((n + 1, int(W) + 1))\n",
    "\n",
    "    for i in range(1, n + 1): # for each item\n",
    "        for w in range(0, int(W) + 1): # for each integer weight\n",
    "            w_i, v_i = Items[i - 1] # weight and value of the last item\n",
    "            if w_i > w: # if weight of last item is greater that current weight we are examining:\n",
    "                M[i, w] = M[i-1, w] # the maximal value achievable at this item count, weight is what it was before we added this item.\n",
    "            else: # new item can fit\n",
    "                # new item is not included in knapsack vs item is included\n",
    "                M[i, w] = max(M[i - 1, w], v_i + M[i - 1, w - w_i])\n",
    "\n",
    "    # backtrack to find items:\n",
    "    item_indices = []\n",
    "    w = int(W)\n",
    "\n",
    "    for i in range(n, 0, -1):\n",
    "        if M[i, w] != M[i - 1, w]:\n",
    "            item_indices.append(i - 1)\n",
    "            w -= Items[i - 1][0]\n",
    "\n",
    "    return M[n, int(W)], item_indices"
   ]
  },
  {
   "cell_type": "markdown",
   "metadata": {},
   "source": [
    "Here are the same test cases as before, but for the new function. Again, add to them to better test your code."
   ]
  },
  {
   "cell_type": "code",
   "execution_count": 5,
   "metadata": {},
   "outputs": [
    {
     "name": "stdout",
     "output_type": "stream",
     "text": [
      "Passed Test Case 1\n",
      "Passed Test Case 2\n"
     ]
    }
   ],
   "source": [
    "ans1 = knapsack_with_items(50, [(30, 0.6), (20, 0.5)])\n",
    "assert ans1[0] == 1.1\n",
    "assert sorted(ans1[1]) == [0, 1]\n",
    "print(\"Passed Test Case 1\")\n",
    "\n",
    "ans2 = knapsack_with_items(50, [(30, 0.6), (20, 0.5), (25, 1.1)])\n",
    "assert ans2[0] == 1.6\n",
    "assert sorted(ans2[1]) == [1, 2]\n",
    "print(\"Passed Test Case 2\")"
   ]
  },
  {
   "cell_type": "code",
   "execution_count": 6,
   "metadata": {},
   "outputs": [],
   "source": [
    "# Here is a code cell you can use for scratch work.\n",
    "# Add more code cells as you need, but only the work inside the function will be graded"
   ]
  },
  {
   "cell_type": "markdown",
   "metadata": {},
   "source": [
    "---\n",
    "\n",
    "IMPORTANT: Please \"Restart and Run All\" and ensure there are no errors. Then, submit this .ipynb file to Gradescope."
   ]
  }
 ],
 "metadata": {
  "kernelspec": {
   "display_name": "caiman",
   "language": "python",
   "name": "python3"
  },
  "language_info": {
   "codemirror_mode": {
    "name": "ipython",
    "version": 3
   },
   "file_extension": ".py",
   "mimetype": "text/x-python",
   "name": "python",
   "nbconvert_exporter": "python",
   "pygments_lexer": "ipython3",
   "version": "3.11.10"
  }
 },
 "nbformat": 4,
 "nbformat_minor": 2
}
